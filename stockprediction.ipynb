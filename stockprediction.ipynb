{
 "cells": [
  {
   "cell_type": "code",
   "execution_count": 37,
   "metadata": {
    "collapsed": false
   },
   "outputs": [
   ],
   "source": [
    "from sklearn.model_selection import train_test_split\n",
    "from sklearn.linear_model import LinearRegression\n",
    "from sklearn import metrics\n"
   ]
  },
  {
   "cell_type": "code",
   "execution_count": 38,
   "metadata": {
    "collapsed": false
   },
   "outputs": [
   ],
   "source": [
    "import pandas as pd\n",
    "import matplotlib.pyplot as plt\n",
    "%matplotlib inline\n"
   ]
  },
  {
   "cell_type": "code",
   "execution_count": 39,
   "metadata": {
    "collapsed": false
   },
   "outputs": [
   ],
   "source": [
    "dataset=pd.read_csv('TSLA.csv')"
   ]
  },
  {
   "cell_type": "code",
   "execution_count": 40,
   "metadata": {
    "collapsed": false
   },
   "outputs": [
    {
     "data": {
      "text/html": [
       "<div>\n",
       "<style scoped>\n",
       "    .dataframe tbody tr th:only-of-type {\n",
       "        vertical-align: middle;\n",
       "    }\n",
       "\n",
       "    .dataframe tbody tr th {\n",
       "        vertical-align: top;\n",
       "    }\n",
       "\n",
       "    .dataframe thead th {\n",
       "        text-align: right;\n",
       "    }\n",
       "</style>\n",
       "<table border=\"1\" class=\"dataframe\">\n",
       "  <thead>\n",
       "    <tr style=\"text-align: right;\">\n",
       "      <th></th>\n",
       "      <th>Date</th>\n",
       "      <th>Open</th>\n",
       "      <th>High</th>\n",
       "      <th>Low</th>\n",
       "      <th>Close</th>\n",
       "      <th>Adj Close</th>\n",
       "      <th>Volume</th>\n",
       "    </tr>\n",
       "  </thead>\n",
       "  <tbody>\n",
       "    <tr>\n",
       "      <th>0</th>\n",
       "      <td>2010-06-29</td>\n",
       "      <td>19.000000</td>\n",
       "      <td>25.00</td>\n",
       "      <td>17.540001</td>\n",
       "      <td>23.889999</td>\n",
       "      <td>23.889999</td>\n",
       "      <td>18766300</td>\n",
       "    </tr>\n",
       "    <tr>\n",
       "      <th>1</th>\n",
       "      <td>2010-06-30</td>\n",
       "      <td>25.790001</td>\n",
       "      <td>30.42</td>\n",
       "      <td>23.299999</td>\n",
       "      <td>23.830000</td>\n",
       "      <td>23.830000</td>\n",
       "      <td>17187100</td>\n",
       "    </tr>\n",
       "    <tr>\n",
       "      <th>2</th>\n",
       "      <td>2010-07-01</td>\n",
       "      <td>25.000000</td>\n",
       "      <td>25.92</td>\n",
       "      <td>20.270000</td>\n",
       "      <td>21.959999</td>\n",
       "      <td>21.959999</td>\n",
       "      <td>8218800</td>\n",
       "    </tr>\n",
       "    <tr>\n",
       "      <th>3</th>\n",
       "      <td>2010-07-02</td>\n",
       "      <td>23.000000</td>\n",
       "      <td>23.10</td>\n",
       "      <td>18.709999</td>\n",
       "      <td>19.200001</td>\n",
       "      <td>19.200001</td>\n",
       "      <td>5139800</td>\n",
       "    </tr>\n",
       "    <tr>\n",
       "      <th>4</th>\n",
       "      <td>2010-07-06</td>\n",
       "      <td>20.000000</td>\n",
       "      <td>20.00</td>\n",
       "      <td>15.830000</td>\n",
       "      <td>16.110001</td>\n",
       "      <td>16.110001</td>\n",
       "      <td>6866900</td>\n",
       "    </tr>\n",
       "  </tbody>\n",
       "</table>\n",
       "</div>"
      ],
      "text/plain": [
       "         Date       Open   High        Low      Close  Adj Close    Volume\n",
       "0  2010-06-29  19.000000  25.00  17.540001  23.889999  23.889999  18766300\n",
       "1  2010-06-30  25.790001  30.42  23.299999  23.830000  23.830000  17187100\n",
       "2  2010-07-01  25.000000  25.92  20.270000  21.959999  21.959999   8218800\n",
       "3  2010-07-02  23.000000  23.10  18.709999  19.200001  19.200001   5139800\n",
       "4  2010-07-06  20.000000  20.00  15.830000  16.110001  16.110001   6866900"
      ]
     },
     "execution_count": 40,
     "metadata": {
     },
     "output_type": "execute_result"
    }
   ],
   "source": [
    "dataset.head(5)"
   ]
  },
  {
   "cell_type": "code",
   "execution_count": 41,
   "metadata": {
    "collapsed": false
   },
   "outputs": [
    {
     "data": {
      "text/html": [
       "<div>\n",
       "<style scoped>\n",
       "    .dataframe tbody tr th:only-of-type {\n",
       "        vertical-align: middle;\n",
       "    }\n",
       "\n",
       "    .dataframe tbody tr th {\n",
       "        vertical-align: top;\n",
       "    }\n",
       "\n",
       "    .dataframe thead th {\n",
       "        text-align: right;\n",
       "    }\n",
       "</style>\n",
       "<table border=\"1\" class=\"dataframe\">\n",
       "  <thead>\n",
       "    <tr style=\"text-align: right;\">\n",
       "      <th></th>\n",
       "      <th>Open</th>\n",
       "      <th>High</th>\n",
       "      <th>Low</th>\n",
       "      <th>Close</th>\n",
       "      <th>Adj Close</th>\n",
       "      <th>Volume</th>\n",
       "    </tr>\n",
       "  </thead>\n",
       "  <tbody>\n",
       "    <tr>\n",
       "      <th>count</th>\n",
       "      <td>2416.000000</td>\n",
       "      <td>2416.000000</td>\n",
       "      <td>2416.000000</td>\n",
       "      <td>2416.000000</td>\n",
       "      <td>2416.000000</td>\n",
       "      <td>2.416000e+03</td>\n",
       "    </tr>\n",
       "    <tr>\n",
       "      <th>mean</th>\n",
       "      <td>186.271147</td>\n",
       "      <td>189.578224</td>\n",
       "      <td>182.916639</td>\n",
       "      <td>186.403651</td>\n",
       "      <td>186.403651</td>\n",
       "      <td>5.572722e+06</td>\n",
       "    </tr>\n",
       "    <tr>\n",
       "      <th>std</th>\n",
       "      <td>118.740163</td>\n",
       "      <td>120.892329</td>\n",
       "      <td>116.857591</td>\n",
       "      <td>119.136020</td>\n",
       "      <td>119.136020</td>\n",
       "      <td>4.987809e+06</td>\n",
       "    </tr>\n",
       "    <tr>\n",
       "      <th>min</th>\n",
       "      <td>16.139999</td>\n",
       "      <td>16.629999</td>\n",
       "      <td>14.980000</td>\n",
       "      <td>15.800000</td>\n",
       "      <td>15.800000</td>\n",
       "      <td>1.185000e+05</td>\n",
       "    </tr>\n",
       "    <tr>\n",
       "      <th>25%</th>\n",
       "      <td>34.342498</td>\n",
       "      <td>34.897501</td>\n",
       "      <td>33.587501</td>\n",
       "      <td>34.400002</td>\n",
       "      <td>34.400002</td>\n",
       "      <td>1.899275e+06</td>\n",
       "    </tr>\n",
       "    <tr>\n",
       "      <th>50%</th>\n",
       "      <td>213.035003</td>\n",
       "      <td>216.745002</td>\n",
       "      <td>208.870002</td>\n",
       "      <td>212.960007</td>\n",
       "      <td>212.960007</td>\n",
       "      <td>4.578400e+06</td>\n",
       "    </tr>\n",
       "    <tr>\n",
       "      <th>75%</th>\n",
       "      <td>266.450012</td>\n",
       "      <td>270.927513</td>\n",
       "      <td>262.102501</td>\n",
       "      <td>266.774994</td>\n",
       "      <td>266.774994</td>\n",
       "      <td>7.361150e+06</td>\n",
       "    </tr>\n",
       "    <tr>\n",
       "      <th>max</th>\n",
       "      <td>673.690002</td>\n",
       "      <td>786.140015</td>\n",
       "      <td>673.520020</td>\n",
       "      <td>780.000000</td>\n",
       "      <td>780.000000</td>\n",
       "      <td>4.706500e+07</td>\n",
       "    </tr>\n",
       "  </tbody>\n",
       "</table>\n",
       "</div>"
      ],
      "text/plain": [
       "              Open         High          Low        Close    Adj Close  \\\n",
       "count  2416.000000  2416.000000  2416.000000  2416.000000  2416.000000   \n",
       "mean    186.271147   189.578224   182.916639   186.403651   186.403651   \n",
       "std     118.740163   120.892329   116.857591   119.136020   119.136020   \n",
       "min      16.139999    16.629999    14.980000    15.800000    15.800000   \n",
       "25%      34.342498    34.897501    33.587501    34.400002    34.400002   \n",
       "50%     213.035003   216.745002   208.870002   212.960007   212.960007   \n",
       "75%     266.450012   270.927513   262.102501   266.774994   266.774994   \n",
       "max     673.690002   786.140015   673.520020   780.000000   780.000000   \n",
       "\n",
       "             Volume  \n",
       "count  2.416000e+03  \n",
       "mean   5.572722e+06  \n",
       "std    4.987809e+06  \n",
       "min    1.185000e+05  \n",
       "25%    1.899275e+06  \n",
       "50%    4.578400e+06  \n",
       "75%    7.361150e+06  \n",
       "max    4.706500e+07  "
      ]
     },
     "execution_count": 41,
     "metadata": {
     },
     "output_type": "execute_result"
    }
   ],
   "source": [
    "dataset.describe()"
   ]
  },
  {
   "cell_type": "code",
   "execution_count": 42,
   "metadata": {
    "collapsed": false
   },
   "outputs": [
   ],
   "source": [
    "x=dataset[['High','Low','Open','Volume']].values\n",
    "y=dataset['Close'].values"
   ]
  },
  {
   "cell_type": "code",
   "execution_count": 43,
   "metadata": {
    "collapsed": false
   },
   "outputs": [
   ],
   "source": [
    "x_train,x_test,y_train,y_test=train_test_split(x,y,test_size=0.2,random_state=0)"
   ]
  },
  {
   "cell_type": "code",
   "execution_count": 44,
   "metadata": {
    "collapsed": false
   },
   "outputs": [
   ],
   "source": [
    "regressor=LinearRegression()"
   ]
  },
  {
   "cell_type": "code",
   "execution_count": 45,
   "metadata": {
    "collapsed": false
   },
   "outputs": [
    {
     "data": {
      "text/plain": [
       "LinearRegression()"
      ]
     },
     "execution_count": 45,
     "metadata": {
     },
     "output_type": "execute_result"
    }
   ],
   "source": [
    "regressor.fit(x_train,y_train)"
   ]
  },
  {
   "cell_type": "code",
   "execution_count": 46,
   "metadata": {
    "collapsed": false
   },
   "outputs": [
    {
     "name": "stdout",
     "output_type": "stream",
     "text": [
      "[ 9.09822286e-01  7.22221223e-01 -6.33406470e-01 -2.55626652e-08]\n"
     ]
    }
   ],
   "source": [
    "print(regressor.coef_)"
   ]
  },
  {
   "cell_type": "code",
   "execution_count": 47,
   "metadata": {
    "collapsed": false
   },
   "outputs": [
    {
     "name": "stdout",
     "output_type": "stream",
     "text": [
      "-0.035708894123104074\n"
     ]
    }
   ],
   "source": [
    "print(regressor.intercept_)"
   ]
  },
  {
   "cell_type": "code",
   "execution_count": 48,
   "metadata": {
    "collapsed": false
   },
   "outputs": [
   ],
   "source": [
    "predicted=regressor.predict(x_test)"
   ]
  },
  {
   "cell_type": "code",
   "execution_count": 49,
   "metadata": {
    "collapsed": false
   },
   "outputs": [
    {
     "name": "stdout",
     "output_type": "stream",
     "text": [
      "[211.93327382  28.34344645  23.96747048 326.63889044 197.99951124\n",
      " 209.84143145  26.57054023  24.1159654  218.55046473 350.59944847\n",
      " 216.7099975  280.40049957  31.69697966 102.55542125  20.40022643\n",
      " 349.79891149 103.437858   258.02993844  27.72811815 223.91076239\n",
      " 363.87876094 325.90560673 221.70942778 341.85450842 306.21971732\n",
      " 180.6830296  336.46531481 271.66139389 226.68781494 244.90669049\n",
      "  26.54390032  31.41751114  30.63028454 227.98926241 392.95272138\n",
      " 222.78373695 214.4718434  137.93700922 325.22897451 219.93566688\n",
      " 309.22196141  36.64959179  23.07174593 214.02967116  28.19760332\n",
      " 231.64875996 197.43215991  34.04842541 308.29253631 272.83813857\n",
      " 231.79550036 298.31285403  35.44684051 217.34268704 289.79617795\n",
      " 232.2691816   34.16691676 237.48107308  18.0454679   52.30063598\n",
      " 227.67194808  34.09896992 260.47309803 323.43699347  27.15820053\n",
      "  28.02553517 247.17197818 228.41047918  20.83224441  33.05489579\n",
      "  33.16853852 170.80777718 323.4398143   23.69198074  33.1451879\n",
      " 299.21821631 307.03620648  18.55794036  21.41674951 250.00096416\n",
      " 328.58384753 217.11349428  54.84653576 213.41224603  35.96322355\n",
      " 335.05748804  35.19466245 531.62498966  22.74081753 222.24290717\n",
      "  28.3913881  326.89669815  38.64369593 246.49212108 177.07166553\n",
      " 233.17046024 345.81570877  30.25909936  28.43891561  54.09498973\n",
      "  33.14975221 320.35335017 253.85898103 350.32197217 226.09983499\n",
      "  29.5162979  191.29481876 195.40108506 254.5992167   25.92781489\n",
      " 228.84148696 347.72168799 229.46299716 371.50846626 232.11182787\n",
      " 159.79735083 203.08500328 255.37664439 299.90957165  20.6350972\n",
      " 214.06703161 278.87023348 220.93968414  27.03061552 348.10389911\n",
      " 358.22804371 215.81392334 341.82109758 313.52733074  20.43785196\n",
      " 196.72139687 544.38462765  19.95238168 267.69880056 224.19325183\n",
      " 341.43906336 338.62069621 244.24575218 205.25294679 206.79248321\n",
      "  27.80731265 349.67943789 365.21997437 196.09880513  22.61398933\n",
      "  26.9817845   27.83491095 198.09514811 225.02810678 124.63141959\n",
      " 245.50845368  31.16685475  34.06407444  23.86898156  20.72283182\n",
      "  28.96323131  19.8747597  193.16338542 372.92924788  27.33226087\n",
      " 258.67081294  29.38818923 233.78824124 218.88032009  32.72659847\n",
      " 222.87267249 359.5096573  313.26280898 294.33715112 268.7692096\n",
      " 272.09215441 301.06443348 205.61316797 223.66064893 315.68921352\n",
      " 353.06350077 225.10685583 373.59855705  35.23271283 348.93361973\n",
      " 238.84777877  28.44983949 254.20486093 143.9469219   31.28420311\n",
      " 240.35834774 140.74525027  19.65330589  19.65363168 221.97896239\n",
      " 349.45100555  29.51283148 304.73744942 282.56364672 334.04490678\n",
      " 214.22768218 235.74862943  39.34276957 226.28159472 334.73340117\n",
      "  29.96539458 265.69209126  34.85292642 260.22115066 248.78758114\n",
      " 176.64879736 359.22575226  24.49623625 332.41023481 303.76571264\n",
      " 156.76213607  35.4225631  285.75775947 233.2940987  265.44160212\n",
      " 255.84762659  25.25425102 520.26307218  28.01403647  37.18595269\n",
      " 201.76448439 105.82405835 300.42535366  37.24410391  27.86490985\n",
      " 245.65503817  33.32940376  19.37269958 194.9457625  238.26090414\n",
      " 353.4627255  281.90211292 252.24749804 243.2862424  230.82757136\n",
      " 228.16459916 298.44839582  28.44142136 201.83621005 337.29649241\n",
      " 226.55243468  29.19654028 251.63077239 276.95697129 204.43118919\n",
      "  18.89871353  36.09340177  26.04332488  28.09082098 116.1239802\n",
      " 348.56462056 329.66208923 162.26453236  34.13621547  26.91376719\n",
      " 218.9296431  101.46904645 196.55524824  29.50392891 364.27396269\n",
      " 358.94245287  27.80351585 254.21891212 313.92138236  33.42834215\n",
      " 211.56031105 190.19844163 253.23952272 270.90709562 339.77741191\n",
      " 189.71117191 164.6153865   39.45325037  33.68264472 202.82820009\n",
      " 227.92318453 187.54154466 184.77045309 250.01734784 246.29805938\n",
      " 227.63186027 255.48629847 378.84560352  30.70427655 249.21377245\n",
      "  34.80977421 207.25438051  34.92312669 269.03223215 259.29204638\n",
      "  27.69393725 304.86081863  20.36541844 142.81728298  28.0012521\n",
      " 216.23875456 251.19883043 298.06692312 302.99202693 490.82646089\n",
      "  30.13170049 150.12503627 237.12397036 242.47321663 361.02754634\n",
      " 306.82006735  36.54724418 166.66897675 246.83006865 184.59422669\n",
      " 235.35011813 206.53154323  34.41050903 298.9153948  147.17337716\n",
      " 286.96269795 254.48346673  29.07296177  31.64044857 128.32787185\n",
      "  28.37050648  27.45301648 300.5880596   27.2725376  148.08405774\n",
      " 380.4322716  203.95465719 249.65253728 251.15899319 252.99225748\n",
      " 194.24977258 264.15786091  28.43163202  20.81536425  22.87507132\n",
      "  27.28759042 303.57910746 228.0792129  118.61989758 201.43388869\n",
      " 252.28241105  54.8481806  184.55666325 229.07575487  26.93250675\n",
      " 229.67618464  33.90018222  32.61116324  24.14923479  28.11278363\n",
      "  29.28681626 248.01921947 246.81141361 219.06664409 211.88835748\n",
      " 157.54026619 197.16141594 250.26209231  26.20129421  37.24989611\n",
      " 202.64461408 240.70955243  51.67150326  35.17991077 337.01394827\n",
      " 244.75084904 225.36567357  26.58394782 258.23777115 353.15861374\n",
      "  38.0065327  306.42389021 213.59516685 266.50260326 166.51457115\n",
      " 202.71439907  27.22396364 283.77550436 177.4333099  198.2300481\n",
      " 339.6839426  337.49744609  27.6110238  331.10667778  35.58403363\n",
      " 210.5215743  205.90256566  27.75508003 251.91550868 241.87167064\n",
      " 244.88207482 200.06110033 244.74695358 383.61994994 254.95904752\n",
      " 211.66152264 241.22832108 287.01063525 233.85355608 343.89020634\n",
      "  25.79011361 205.02316614 238.95463555  20.5219486  250.77080995\n",
      " 184.71208296 232.88277449 223.24176399  23.72828688 166.47536169\n",
      " 311.59401369 238.39830697  23.19194698 282.51351258 227.4397734\n",
      " 232.75047305 357.05222204 254.962322   226.45268274  20.54474737\n",
      "  28.10016285  25.30746124 347.57449005 189.67009345 227.50139102\n",
      " 240.55138496  33.430466   201.95849669 147.73339985  21.03429216\n",
      "  24.37107883 212.33887234  29.39519531  26.59681692  24.58561522\n",
      " 228.44483918 249.474224    33.34188617  21.35144543 322.42309521\n",
      " 178.6855494  225.46800838  27.06824677 224.14378265 311.3627349\n",
      "  24.31154826  87.14373143 278.92306728 134.31547882 236.65577502\n",
      " 156.36215704 188.92283136  33.69361544  45.58469361 199.94612149\n",
      "  28.665271   325.39335548  29.08417692 222.34733258 230.59027553\n",
      " 269.62434616 231.64720864 252.58971589  22.89813462 186.06708001\n",
      " 258.36378388  28.8429513  164.26291054  18.17462745 168.65487541\n",
      "  78.91577597 253.51280612 355.28127603 311.1261409  263.60051783\n",
      " 291.50456116 331.2189219  204.64245101  28.89246271 190.22311107\n",
      " 355.50720692  26.71482042 184.05803386  31.47719165]\n"
     ]
    }
   ],
   "source": [
    "print(predicted)"
   ]
  },
  {
   "cell_type": "code",
   "execution_count": 50,
   "metadata": {
    "collapsed": false
   },
   "outputs": [
   ],
   "source": [
    "dframe=pd.DataFrame({'Actual':y_test.flatten(),'Predicted':predicted.flatten()})"
   ]
  },
  {
   "cell_type": "code",
   "execution_count": 51,
   "metadata": {
    "collapsed": false
   },
   "outputs": [
    {
     "data": {
      "text/html": [
       "<div>\n",
       "<style scoped>\n",
       "    .dataframe tbody tr th:only-of-type {\n",
       "        vertical-align: middle;\n",
       "    }\n",
       "\n",
       "    .dataframe tbody tr th {\n",
       "        vertical-align: top;\n",
       "    }\n",
       "\n",
       "    .dataframe thead th {\n",
       "        text-align: right;\n",
       "    }\n",
       "</style>\n",
       "<table border=\"1\" class=\"dataframe\">\n",
       "  <thead>\n",
       "    <tr style=\"text-align: right;\">\n",
       "      <th></th>\n",
       "      <th>Actual</th>\n",
       "      <th>Predicted</th>\n",
       "    </tr>\n",
       "  </thead>\n",
       "  <tbody>\n",
       "    <tr>\n",
       "      <th>0</th>\n",
       "      <td>207.729996</td>\n",
       "      <td>211.933274</td>\n",
       "    </tr>\n",
       "    <tr>\n",
       "      <th>1</th>\n",
       "      <td>28.280001</td>\n",
       "      <td>28.343446</td>\n",
       "    </tr>\n",
       "    <tr>\n",
       "      <th>2</th>\n",
       "      <td>24.010000</td>\n",
       "      <td>23.967470</td>\n",
       "    </tr>\n",
       "    <tr>\n",
       "      <th>3</th>\n",
       "      <td>315.230011</td>\n",
       "      <td>326.638890</td>\n",
       "    </tr>\n",
       "    <tr>\n",
       "      <th>4</th>\n",
       "      <td>200.240005</td>\n",
       "      <td>197.999511</td>\n",
       "    </tr>\n",
       "    <tr>\n",
       "      <th>5</th>\n",
       "      <td>210.240005</td>\n",
       "      <td>209.841431</td>\n",
       "    </tr>\n",
       "    <tr>\n",
       "      <th>6</th>\n",
       "      <td>26.440001</td>\n",
       "      <td>26.570540</td>\n",
       "    </tr>\n",
       "    <tr>\n",
       "      <th>7</th>\n",
       "      <td>22.790001</td>\n",
       "      <td>24.115965</td>\n",
       "    </tr>\n",
       "    <tr>\n",
       "      <th>8</th>\n",
       "      <td>224.839996</td>\n",
       "      <td>218.550465</td>\n",
       "    </tr>\n",
       "    <tr>\n",
       "      <th>9</th>\n",
       "      <td>353.179993</td>\n",
       "      <td>350.599448</td>\n",
       "    </tr>\n",
       "    <tr>\n",
       "      <th>10</th>\n",
       "      <td>219.039993</td>\n",
       "      <td>216.709997</td>\n",
       "    </tr>\n",
       "    <tr>\n",
       "      <th>11</th>\n",
       "      <td>278.480011</td>\n",
       "      <td>280.400500</td>\n",
       "    </tr>\n",
       "    <tr>\n",
       "      <th>12</th>\n",
       "      <td>31.799999</td>\n",
       "      <td>31.696980</td>\n",
       "    </tr>\n",
       "    <tr>\n",
       "      <th>13</th>\n",
       "      <td>102.199997</td>\n",
       "      <td>102.555421</td>\n",
       "    </tr>\n",
       "    <tr>\n",
       "      <th>14</th>\n",
       "      <td>20.430000</td>\n",
       "      <td>20.400226</td>\n",
       "    </tr>\n",
       "    <tr>\n",
       "      <th>15</th>\n",
       "      <td>346.049988</td>\n",
       "      <td>349.798911</td>\n",
       "    </tr>\n",
       "    <tr>\n",
       "      <th>16</th>\n",
       "      <td>104.629997</td>\n",
       "      <td>103.437858</td>\n",
       "    </tr>\n",
       "    <tr>\n",
       "      <th>17</th>\n",
       "      <td>260.170013</td>\n",
       "      <td>258.029938</td>\n",
       "    </tr>\n",
       "    <tr>\n",
       "      <th>18</th>\n",
       "      <td>28.059999</td>\n",
       "      <td>27.728118</td>\n",
       "    </tr>\n",
       "    <tr>\n",
       "      <th>19</th>\n",
       "      <td>225.000000</td>\n",
       "      <td>223.910762</td>\n",
       "    </tr>\n",
       "    <tr>\n",
       "      <th>20</th>\n",
       "      <td>359.700012</td>\n",
       "      <td>363.878761</td>\n",
       "    </tr>\n",
       "    <tr>\n",
       "      <th>21</th>\n",
       "      <td>327.779999</td>\n",
       "      <td>325.905607</td>\n",
       "    </tr>\n",
       "    <tr>\n",
       "      <th>22</th>\n",
       "      <td>220.690002</td>\n",
       "      <td>221.709428</td>\n",
       "    </tr>\n",
       "    <tr>\n",
       "      <th>23</th>\n",
       "      <td>337.950012</td>\n",
       "      <td>341.854508</td>\n",
       "    </tr>\n",
       "    <tr>\n",
       "      <th>24</th>\n",
       "      <td>308.739990</td>\n",
       "      <td>306.219717</td>\n",
       "    </tr>\n",
       "  </tbody>\n",
       "</table>\n",
       "</div>"
      ],
      "text/plain": [
       "        Actual   Predicted\n",
       "0   207.729996  211.933274\n",
       "1    28.280001   28.343446\n",
       "2    24.010000   23.967470\n",
       "3   315.230011  326.638890\n",
       "4   200.240005  197.999511\n",
       "5   210.240005  209.841431\n",
       "6    26.440001   26.570540\n",
       "7    22.790001   24.115965\n",
       "8   224.839996  218.550465\n",
       "9   353.179993  350.599448\n",
       "10  219.039993  216.709997\n",
       "11  278.480011  280.400500\n",
       "12   31.799999   31.696980\n",
       "13  102.199997  102.555421\n",
       "14   20.430000   20.400226\n",
       "15  346.049988  349.798911\n",
       "16  104.629997  103.437858\n",
       "17  260.170013  258.029938\n",
       "18   28.059999   27.728118\n",
       "19  225.000000  223.910762\n",
       "20  359.700012  363.878761\n",
       "21  327.779999  325.905607\n",
       "22  220.690002  221.709428\n",
       "23  337.950012  341.854508\n",
       "24  308.739990  306.219717"
      ]
     },
     "execution_count": 51,
     "metadata": {
     },
     "output_type": "execute_result"
    }
   ],
   "source": [
    "dframe.head(25)"
   ]
  },
  {
   "cell_type": "code",
   "execution_count": 52,
   "metadata": {
    "collapsed": false
   },
   "outputs": [
   ],
   "source": [
    "import math"
   ]
  },
  {
   "cell_type": "code",
   "execution_count": 53,
   "metadata": {
    "collapsed": false
   },
   "outputs": [
    {
     "name": "stdout",
     "output_type": "stream",
     "text": [
      "Mean Absolute Error: 1.4055113679936522\n",
      "Mean Squared Error: 4.256936158024002\n",
      "Root Mean Squared Error: 2.063234392410131\n"
     ]
    }
   ],
   "source": [
    "print('Mean Absolute Error:',metrics.mean_absolute_error(y_test,predicted))\n",
    "print('Mean Squared Error:',metrics.mean_squared_error(y_test,predicted))\n",
    "print('Root Mean Squared Error:',math.sqrt(metrics.mean_squared_error(y_test,predicted)))\n",
    "\n"
   ]
  },
  {
   "cell_type": "code",
   "execution_count": 54,
   "metadata": {
    "collapsed": false
   },
   "outputs": [
    {
     "data": {
      "text/plain": [
       "<matplotlib.axes._subplots.AxesSubplot at 0x7fc6f84b1198>"
      ]
     },
     "execution_count": 54,
     "metadata": {
     },
     "output_type": "execute_result"
    },
    {
     "data": {
      "image/png": "[encoded data removed]",
      "text/plain": [
       "<Figure size 432x288 with 1 Axes>"
      ]
     },
     "execution_count": 54,
     "metadata": {
      "image/png": {
       "height": 251,
       "width": 375
      },
      "needs_background": "light"
     },
     "output_type": "execute_result"
    }
   ],
   "source": [
    "graph=dframe.head(20)\n",
    "graph.plot(kind='bar')"
   ]
  },
  {
   "cell_type": "code",
   "execution_count": 0,
   "metadata": {
    "collapsed": false
   },
   "outputs": [
   ],
   "source": [
   ]
  }
 ],
 "metadata": {
  "kernelspec": {
   "display_name": "Python 3 (system-wide)",
   "language": "python",
   "metadata": {
    "cocalc": {
     "description": "Python 3 programming language",
     "priority": 100,
     "url": "https://www.python.org/"
    }
   },
   "name": "python3"
  },
  "language_info": {
   "codemirror_mode": {
    "name": "ipython",
    "version": 3
   },
   "file_extension": ".py",
   "mimetype": "text/x-python",
   "name": "python",
   "nbconvert_exporter": "python",
   "pygments_lexer": "ipython3",
   "version": "3.6.9"
  }
 },
 "nbformat": 4,
 "nbformat_minor": 4
}